{
  "cells": [
    {
      "cell_type": "markdown",
      "metadata": {
        "id": "view-in-github",
        "colab_type": "text"
      },
      "source": [
        "<a href=\"https://colab.research.google.com/github/Adarsh0911/Elements-of-Aiml-LAb-Adarsh-Singh/blob/main/Aiml_exp_7.ipynb\" target=\"_parent\"><img src=\"https://colab.research.google.com/assets/colab-badge.svg\" alt=\"Open In Colab\"/></a>"
      ]
    },
    {
      "cell_type": "markdown",
      "source": [
        "# New section"
      ],
      "metadata": {
        "id": "9LTyGRKqHaB2"
      }
    },
    {
      "cell_type": "code",
      "source": [
        "import pandas as pd\n",
        "\n",
        "# Example dataset (Titanic dataset)\n",
        "url = \"https://raw.githubusercontent.com/datasciencedojo/datasets/master/titanic.csv\"\n",
        "df = pd.read_csv(url)\n",
        "\n",
        "# Display basic details about the dataset\n",
        "print(\"Dataset Info:\")\n",
        "print(df.info())\n",
        "print(\"\\nFirst 5 Rows of the Dataset:\")\n",
        "print(df.head())\n"
      ],
      "metadata": {
        "colab": {
          "base_uri": "https://localhost:8080/"
        },
        "collapsed": true,
        "id": "VS85TybNHg_F",
        "outputId": "e1a53e49-7f65-4177-e9ec-913d8d0a192c"
      },
      "execution_count": 1,
      "outputs": [
        {
          "output_type": "stream",
          "name": "stdout",
          "text": [
            "Dataset Info:\n",
            "<class 'pandas.core.frame.DataFrame'>\n",
            "RangeIndex: 891 entries, 0 to 890\n",
            "Data columns (total 12 columns):\n",
            " #   Column       Non-Null Count  Dtype  \n",
            "---  ------       --------------  -----  \n",
            " 0   PassengerId  891 non-null    int64  \n",
            " 1   Survived     891 non-null    int64  \n",
            " 2   Pclass       891 non-null    int64  \n",
            " 3   Name         891 non-null    object \n",
            " 4   Sex          891 non-null    object \n",
            " 5   Age          714 non-null    float64\n",
            " 6   SibSp        891 non-null    int64  \n",
            " 7   Parch        891 non-null    int64  \n",
            " 8   Ticket       891 non-null    object \n",
            " 9   Fare         891 non-null    float64\n",
            " 10  Cabin        204 non-null    object \n",
            " 11  Embarked     889 non-null    object \n",
            "dtypes: float64(2), int64(5), object(5)\n",
            "memory usage: 83.7+ KB\n",
            "None\n",
            "\n",
            "First 5 Rows of the Dataset:\n",
            "   PassengerId  Survived  Pclass  \\\n",
            "0            1         0       3   \n",
            "1            2         1       1   \n",
            "2            3         1       3   \n",
            "3            4         1       1   \n",
            "4            5         0       3   \n",
            "\n",
            "                                                Name     Sex   Age  SibSp  \\\n",
            "0                            Braund, Mr. Owen Harris    male  22.0      1   \n",
            "1  Cumings, Mrs. John Bradley (Florence Briggs Th...  female  38.0      1   \n",
            "2                             Heikkinen, Miss. Laina  female  26.0      0   \n",
            "3       Futrelle, Mrs. Jacques Heath (Lily May Peel)  female  35.0      1   \n",
            "4                           Allen, Mr. William Henry    male  35.0      0   \n",
            "\n",
            "   Parch            Ticket     Fare Cabin Embarked  \n",
            "0      0         A/5 21171   7.2500   NaN        S  \n",
            "1      0          PC 17599  71.2833   C85        C  \n",
            "2      0  STON/O2. 3101282   7.9250   NaN        S  \n",
            "3      0            113803  53.1000  C123        S  \n",
            "4      0            373450   8.0500   NaN        S  \n"
          ]
        }
      ]
    },
    {
      "cell_type": "code",
      "source": [
        "# Separate numerical and categorical columns\n",
        "numerical_columns = df.select_dtypes(include=['float64', 'int64']).columns\n",
        "categorical_columns = df.select_dtypes(include=['object']).columns\n",
        "\n",
        "print(\"\\nNumerical Columns:\", numerical_columns)\n",
        "print(\"Categorical Columns:\", categorical_columns)\n"
      ],
      "metadata": {
        "colab": {
          "base_uri": "https://localhost:8080/"
        },
        "collapsed": true,
        "id": "uY-m-67sHmeA",
        "outputId": "109a96c4-5cc5-474a-b445-c04244f94ebe"
      },
      "execution_count": 2,
      "outputs": [
        {
          "output_type": "stream",
          "name": "stdout",
          "text": [
            "\n",
            "Numerical Columns: Index(['PassengerId', 'Survived', 'Pclass', 'Age', 'SibSp', 'Parch', 'Fare'], dtype='object')\n",
            "Categorical Columns: Index(['Name', 'Sex', 'Ticket', 'Cabin', 'Embarked'], dtype='object')\n"
          ]
        }
      ]
    },
    {
      "cell_type": "code",
      "source": [
        "from sklearn.preprocessing import MinMaxScaler, StandardScaler\n",
        "\n",
        "# Choose scaling method: MinMaxScaler or StandardScaler\n",
        "scaler = MinMaxScaler()\n",
        "# scaler = StandardScaler()\n",
        "\n",
        "# Scale the numerical columns\n",
        "df_scaled = df.copy()\n",
        "df_scaled[numerical_columns] = scaler.fit_transform(df[numerical_columns])\n",
        "\n",
        "print(\"\\nFirst 5 Rows After Scaling Numerical Features:\")\n",
        "print(df_scaled.head())\n"
      ],
      "metadata": {
        "colab": {
          "base_uri": "https://localhost:8080/"
        },
        "collapsed": true,
        "id": "0e8ERLajHmtM",
        "outputId": "541ae8e1-4bac-4e3f-a4a4-2f75b562d20f"
      },
      "execution_count": 3,
      "outputs": [
        {
          "output_type": "stream",
          "name": "stdout",
          "text": [
            "\n",
            "First 5 Rows After Scaling Numerical Features:\n",
            "   PassengerId  Survived  Pclass  \\\n",
            "0     0.000000       0.0     1.0   \n",
            "1     0.001124       1.0     0.0   \n",
            "2     0.002247       1.0     1.0   \n",
            "3     0.003371       1.0     0.0   \n",
            "4     0.004494       0.0     1.0   \n",
            "\n",
            "                                                Name     Sex       Age  SibSp  \\\n",
            "0                            Braund, Mr. Owen Harris    male  0.271174  0.125   \n",
            "1  Cumings, Mrs. John Bradley (Florence Briggs Th...  female  0.472229  0.125   \n",
            "2                             Heikkinen, Miss. Laina  female  0.321438  0.000   \n",
            "3       Futrelle, Mrs. Jacques Heath (Lily May Peel)  female  0.434531  0.125   \n",
            "4                           Allen, Mr. William Henry    male  0.434531  0.000   \n",
            "\n",
            "   Parch            Ticket      Fare Cabin Embarked  \n",
            "0    0.0         A/5 21171  0.014151   NaN        S  \n",
            "1    0.0          PC 17599  0.139136   C85        C  \n",
            "2    0.0  STON/O2. 3101282  0.015469   NaN        S  \n",
            "3    0.0            113803  0.103644  C123        S  \n",
            "4    0.0            373450  0.015713   NaN        S  \n"
          ]
        }
      ]
    },
    {
      "cell_type": "code",
      "source": [
        "# One-hot encode the categorical columns\n",
        "df_encoded = pd.get_dummies(df_scaled, columns=categorical_columns)\n",
        "\n",
        "print(\"\\nFirst 5 Rows After One-Hot Encoding Categorical Features:\")\n",
        "print(df_encoded.head())\n"
      ],
      "metadata": {
        "colab": {
          "base_uri": "https://localhost:8080/"
        },
        "collapsed": true,
        "id": "_uNxnMXmHm2q",
        "outputId": "a2805f0c-6152-4caf-bcd3-7e62716a90ab"
      },
      "execution_count": 4,
      "outputs": [
        {
          "output_type": "stream",
          "name": "stdout",
          "text": [
            "\n",
            "First 5 Rows After One-Hot Encoding Categorical Features:\n",
            "   PassengerId  Survived  Pclass       Age  SibSp  Parch      Fare  \\\n",
            "0     0.000000       0.0     1.0  0.271174  0.125    0.0  0.014151   \n",
            "1     0.001124       1.0     0.0  0.472229  0.125    0.0  0.139136   \n",
            "2     0.002247       1.0     1.0  0.321438  0.000    0.0  0.015469   \n",
            "3     0.003371       1.0     0.0  0.434531  0.125    0.0  0.103644   \n",
            "4     0.004494       0.0     1.0  0.434531  0.000    0.0  0.015713   \n",
            "\n",
            "   Name_Abbing, Mr. Anthony  Name_Abbott, Mr. Rossmore Edward  \\\n",
            "0                     False                             False   \n",
            "1                     False                             False   \n",
            "2                     False                             False   \n",
            "3                     False                             False   \n",
            "4                     False                             False   \n",
            "\n",
            "   Name_Abbott, Mrs. Stanton (Rosa Hunt)  ...  Cabin_F G73  Cabin_F2  \\\n",
            "0                                  False  ...        False     False   \n",
            "1                                  False  ...        False     False   \n",
            "2                                  False  ...        False     False   \n",
            "3                                  False  ...        False     False   \n",
            "4                                  False  ...        False     False   \n",
            "\n",
            "   Cabin_F33  Cabin_F38  Cabin_F4  Cabin_G6  Cabin_T  Embarked_C  Embarked_Q  \\\n",
            "0      False      False     False     False    False       False       False   \n",
            "1      False      False     False     False    False        True       False   \n",
            "2      False      False     False     False    False       False       False   \n",
            "3      False      False     False     False    False       False       False   \n",
            "4      False      False     False     False    False       False       False   \n",
            "\n",
            "   Embarked_S  \n",
            "0        True  \n",
            "1       False  \n",
            "2        True  \n",
            "3        True  \n",
            "4        True  \n",
            "\n",
            "[5 rows x 1731 columns]\n"
          ]
        }
      ]
    },
    {
      "cell_type": "code",
      "source": [
        "print(\"\\nOriginal Dataset (First 5 Rows):\")\n",
        "print(df.head())\n",
        "\n",
        "print(\"\\nPreprocessed Dataset (First 5 Rows):\")\n",
        "print(df_encoded.head())\n"
      ],
      "metadata": {
        "colab": {
          "base_uri": "https://localhost:8080/"
        },
        "collapsed": true,
        "id": "qoQKUjx3HnC5",
        "outputId": "06f379c9-3fa6-4000-a3de-222664feaf6a"
      },
      "execution_count": 5,
      "outputs": [
        {
          "output_type": "stream",
          "name": "stdout",
          "text": [
            "\n",
            "Original Dataset (First 5 Rows):\n",
            "   PassengerId  Survived  Pclass  \\\n",
            "0            1         0       3   \n",
            "1            2         1       1   \n",
            "2            3         1       3   \n",
            "3            4         1       1   \n",
            "4            5         0       3   \n",
            "\n",
            "                                                Name     Sex   Age  SibSp  \\\n",
            "0                            Braund, Mr. Owen Harris    male  22.0      1   \n",
            "1  Cumings, Mrs. John Bradley (Florence Briggs Th...  female  38.0      1   \n",
            "2                             Heikkinen, Miss. Laina  female  26.0      0   \n",
            "3       Futrelle, Mrs. Jacques Heath (Lily May Peel)  female  35.0      1   \n",
            "4                           Allen, Mr. William Henry    male  35.0      0   \n",
            "\n",
            "   Parch            Ticket     Fare Cabin Embarked  \n",
            "0      0         A/5 21171   7.2500   NaN        S  \n",
            "1      0          PC 17599  71.2833   C85        C  \n",
            "2      0  STON/O2. 3101282   7.9250   NaN        S  \n",
            "3      0            113803  53.1000  C123        S  \n",
            "4      0            373450   8.0500   NaN        S  \n",
            "\n",
            "Preprocessed Dataset (First 5 Rows):\n",
            "   PassengerId  Survived  Pclass       Age  SibSp  Parch      Fare  \\\n",
            "0     0.000000       0.0     1.0  0.271174  0.125    0.0  0.014151   \n",
            "1     0.001124       1.0     0.0  0.472229  0.125    0.0  0.139136   \n",
            "2     0.002247       1.0     1.0  0.321438  0.000    0.0  0.015469   \n",
            "3     0.003371       1.0     0.0  0.434531  0.125    0.0  0.103644   \n",
            "4     0.004494       0.0     1.0  0.434531  0.000    0.0  0.015713   \n",
            "\n",
            "   Name_Abbing, Mr. Anthony  Name_Abbott, Mr. Rossmore Edward  \\\n",
            "0                     False                             False   \n",
            "1                     False                             False   \n",
            "2                     False                             False   \n",
            "3                     False                             False   \n",
            "4                     False                             False   \n",
            "\n",
            "   Name_Abbott, Mrs. Stanton (Rosa Hunt)  ...  Cabin_F G73  Cabin_F2  \\\n",
            "0                                  False  ...        False     False   \n",
            "1                                  False  ...        False     False   \n",
            "2                                  False  ...        False     False   \n",
            "3                                  False  ...        False     False   \n",
            "4                                  False  ...        False     False   \n",
            "\n",
            "   Cabin_F33  Cabin_F38  Cabin_F4  Cabin_G6  Cabin_T  Embarked_C  Embarked_Q  \\\n",
            "0      False      False     False     False    False       False       False   \n",
            "1      False      False     False     False    False        True       False   \n",
            "2      False      False     False     False    False       False       False   \n",
            "3      False      False     False     False    False       False       False   \n",
            "4      False      False     False     False    False       False       False   \n",
            "\n",
            "   Embarked_S  \n",
            "0        True  \n",
            "1       False  \n",
            "2        True  \n",
            "3        True  \n",
            "4        True  \n",
            "\n",
            "[5 rows x 1731 columns]\n"
          ]
        }
      ]
    },
    {
      "cell_type": "code",
      "source": [
        "print(\"\\nMemory Usage Before Preprocessing:\")\n",
        "print(df.memory_usage(deep=True).sum(), \"bytes\")\n",
        "\n",
        "print(\"\\nMemory Usage After Preprocessing:\")\n",
        "print(df_encoded.memory_usage(deep=True).sum(), \"bytes\")\n"
      ],
      "metadata": {
        "collapsed": true,
        "colab": {
          "base_uri": "https://localhost:8080/"
        },
        "id": "_W6orQnWIHtD",
        "outputId": "74762b93-31ce-49c6-a165-cdbd256590a9"
      },
      "execution_count": 6,
      "outputs": [
        {
          "output_type": "stream",
          "name": "stdout",
          "text": [
            "\n",
            "Memory Usage Before Preprocessing:\n",
            "322588 bytes\n",
            "\n",
            "Memory Usage After Preprocessing:\n",
            "1586108 bytes\n"
          ]
        }
      ]
    }
  ],
  "metadata": {
    "colab": {
      "toc_visible": true,
      "provenance": [],
      "include_colab_link": true
    },
    "kernelspec": {
      "display_name": "Python 3",
      "name": "python3"
    }
  },
  "nbformat": 4,
  "nbformat_minor": 0
}